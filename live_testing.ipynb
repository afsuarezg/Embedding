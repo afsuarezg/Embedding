{
 "cells": [
  {
   "cell_type": "code",
   "execution_count": null,
   "metadata": {},
   "outputs": [],
   "source": [
    "import json\n",
    "import pandas as pd\n",
    "import os\n",
    "from embedding import populate_embeddings, load_data"
   ]
  },
  {
   "cell_type": "code",
   "execution_count": 18,
   "metadata": {
    "vscode": {
     "languageId": "shellscript"
    }
   },
   "outputs": [
    {
     "name": "stdout",
     "output_type": "stream",
     "text": [
      "[[7.7, 8.8], [9.9, 10.1], [4.4, 5.5, 6.6], [1.2, 4.5], [None], [None], [None], [None]]\n"
     ]
    }
   ],
   "source": [
    "# List of list of floats\n",
    "list_of_lists = [[7.7, 8.8], [9.9, 10.10]]\n",
    "# List of floats to add\n",
    "new_floats = [[4.4, 5.5, 6.6], [1.2, 4.5]]\n",
    "# Add the list of floats to the list of list of floats\n",
    "list_of_lists.extend(new_floats)\n",
    "list_of_lists.extend([[None] for _ in range(4)])\n",
    "\n",
    "# Print the updated list of list of floats\n",
    "print(list_of_lists)"
   ]
  },
  {
   "cell_type": "code",
   "execution_count": 5,
   "metadata": {},
   "outputs": [
    {
     "data": {
      "text/plain": [
       "'ae1f30fd-b0e1-4fff-b4a6-e80db7622ce1'"
      ]
     },
     "execution_count": 5,
     "metadata": {},
     "output_type": "execute_result"
    }
   ],
   "source": [
    "subscription_id = os.getenv('subscription_id')\n",
    "subscription_id\n"
   ]
  },
  {
   "cell_type": "code",
   "execution_count": 8,
   "metadata": {},
   "outputs": [
    {
     "data": {
      "text/plain": [
       "[{'id': 'C-008-23_0',\n",
       "  'text': 'RESTRICCIÓN A PERSONAS NATURALES PARA PRESTAR SERVICIOS DE ASESORÍA, CONSULTORÍA, INVESTIGACIÓN EN PROCESO DE CERTIFICACIÓN DE SEGURIDAD-Actividades en las que se justifica su aplicación\\n \\n(...) la Sala constato´ que las disposiciones acusadas son razonables y proporcionadas solo si se entienden circunscritas exclusivamente a la prestación del servicio de asesoría, consultoría e investigación para los procesos de certificación en seguridad referentes a la gestión de riesgo de actividades propias de la cadena logística de comercio exterior y la prevención de los delitos transnacionales. La Sala concluyo´ que las normas se refieren a una actividad que constituye un riesgo social, pues la seguridad del comercio exterior se podría ver afectada por las actividades objeto de limitación.'},\n",
       " {'id': 'C-008-23_1',\n",
       "  'text': '(...) imponer una restricción absoluta al ejercicio de la actividad de consultores, asesores e investigadores en el análisis y evaluación de riesgos en seguridad para cualquier tipo de certificación privada o pública es una medida desproporcionada, debido a que limita excesivamente las actividades profesionales de los consultores, asesores e investigadores en seguridad sin que los beneficios que de ello se derivan compensen la afectación intensa del derecho fundamental a la libertad de escoger profesión u oficio. No existe evidencia de que la imposibilidad de que las personas naturales presten servicios de auditoría, consultoría e investigación de seguridad en certificaciones voluntarias o privadas que solo implican mejores prácticas empresariales o de negocios reporte beneficios importantes para la garantía de un orden justo, la convivencia pacífica y la preservación de la seguridad que justifiquen la restricción intensa que prevén las disposiciones acusadas.'},\n",
       " {'id': 'C-008-23_2',\n",
       "  'text': '(...) la medida, al requerir que sean empresas debidamente vigiladas y con la autorización exclusiva y vigente de la Superintendencia de Vigilancia y Seguridad Privada las que prestan los servicios de consultoría, asesoría y vigilancia para cualquier certificación público o privada, pretende que el Estado ejerza un control efectivo de las mismas, de la idoneidad del personal que participa en la prestación del servicio, del cumplimiento de sus obligaciones legales y reglamentarias, entre otras. La posibilidad de que la Superintendencia investigue y sancione a estas empresas cuando incumplan sus deberes mediante la imposición de multas, medidas cautelares, revocatoria de la licencia y las demás sanciones que se imponen a sus vigiladas constituye un incentivo efectivo para que se presten adecuadamente los servicios de evaluación y análisis de riesgo para cualquier certificación pública o privada. Esto de manera indudable es una medida adecuada para que haya menores fallas en el servicio y mayores garantías de seguridad, integridad y credibilidad en el cumplimiento de las funciones y que haya una mayor garantía del cumplimiento de estándares de seguridad en el desempeño de las funciones.'},\n",
       " {'id': 'C-008-23_3',\n",
       "  'text': '(...) para la Sala es evidente que la labor de asesoría, consultoría e investigación en el marco de actividades para obtener la certificación pública o privada para la gestión de riesgos en seguridad es un oficio que conlleva un riesgo social. A su vez esto implica que el Legislador está facultado para limitar el ejercicio del mismo.'},\n",
       " {'id': 'C-008-23_4',\n",
       "  'text': '(...) el legislador puede imponer restricciones o condiciones para el desempeño de una profesión u oficio, y, así, limitar el derecho al trabajo y a la libertad de escoger profesión u oficio. Tal limitación debe sustentarse en precaver un riesgo social y, ser razonable y proporcionada. Aunque, en principio, los oficios que no requieran una formación específica no son objeto de restricción alguna, aquellos que impliquen un riesgo social no son de libre ejercicio. Respecto de estos, el legislador puede determinar que estén regulados y sometidos a la inspección y vigilancia de las autoridades competentes. El riesgo social se refiere a la defensa y salvaguarda de intereses colectivos que se materializan en la protección de los derechos constitucionales de los posibles usuarios del servicio, por ejemplo, como el porte de armas en los servicios de seguridad y vigilancia. Finalmente, en principio, el estudio de la razonabilidad y proporcionalidad de las restricciones, en virtud del amplio margen de configuración del legislador, se debe realizar por medio de un test de proporcionalidad leve.'}]"
      ]
     },
     "execution_count": 8,
     "metadata": {},
     "output_type": "execute_result"
    }
   ],
   "source": [
    "data = load_data(r\"C:\\Users\\Andres.DESKTOP-D77KM25\\OneDrive - Stanford\\Laboral\\Lawgorithm\\Corte Constitucional\\processed_files\\json\\jurisprudencia_2023.json\")\n",
    "data[:5]"
   ]
  },
  {
   "cell_type": "code",
   "execution_count": 10,
   "metadata": {},
   "outputs": [],
   "source": [
    "# Define the path where you want to save the JSON file\n",
    "output_file_path = r\"C:\\Users\\Andres.DESKTOP-D77KM25\\OneDrive - Stanford\\Laboral\\Lawgorithm\\Corte Constitucional\\processed_files\\json\\jurisprudencia_2023_muestra.json\"\n",
    "\n",
    "# Save the list of dictionaries as a JSON file\n",
    "with open(output_file_path, 'w', encoding='utf-8') as f:\n",
    "    json.dump(data[:50], f, ensure_ascii=False, indent=4)"
   ]
  },
  {
   "cell_type": "code",
   "execution_count": 12,
   "metadata": {},
   "outputs": [
    {
     "data": {
      "text/plain": [
       "(50, 2)"
      ]
     },
     "execution_count": 12,
     "metadata": {},
     "output_type": "execute_result"
    }
   ],
   "source": [
    "# Replace 'your_file.json' with the path to your JSON file\n",
    "file_path = r\"C:\\Users\\Andres.DESKTOP-D77KM25\\OneDrive - Stanford\\Laboral\\Lawgorithm\\Corte Constitucional\\processed_files\\json\\jurisprudencia_2023.json\"\n",
    "df = pd.read_json(output_file_path)\n",
    "\n",
    "# Display the DataFrame\n",
    "df.shape"
   ]
  },
  {
   "cell_type": "code",
   "execution_count": null,
   "metadata": {},
   "outputs": [],
   "source": []
  },
  {
   "cell_type": "code",
   "execution_count": null,
   "metadata": {},
   "outputs": [],
   "source": []
  }
 ],
 "metadata": {
  "kernelspec": {
   "display_name": ".venv",
   "language": "python",
   "name": "python3"
  },
  "language_info": {
   "codemirror_mode": {
    "name": "ipython",
    "version": 3
   },
   "file_extension": ".py",
   "mimetype": "text/x-python",
   "name": "python",
   "nbconvert_exporter": "python",
   "pygments_lexer": "ipython3",
   "version": "3.10.11"
  }
 },
 "nbformat": 4,
 "nbformat_minor": 2
}
